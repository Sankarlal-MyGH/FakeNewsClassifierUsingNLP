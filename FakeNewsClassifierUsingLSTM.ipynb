{
  "nbformat": 4,
  "nbformat_minor": 0,
  "metadata": {
    "colab": {
      "name": "FakeNewsClassifierUsingLSTM.ipynb",
      "provenance": [],
      "authorship_tag": "ABX9TyNOeiZOQwBMghG9WKGuOlt1",
      "include_colab_link": true
    },
    "kernelspec": {
      "name": "python3",
      "display_name": "Python 3"
    },
    "language_info": {
      "name": "python"
    }
  },
  "cells": [
    {
      "cell_type": "markdown",
      "metadata": {
        "id": "view-in-github",
        "colab_type": "text"
      },
      "source": [
        "<a href=\"https://colab.research.google.com/github/Sankarlal-MyGH/FakeNewsClassifierUsingNLP/blob/main/FakeNewsClassifierUsingLSTM.ipynb\" target=\"_parent\"><img src=\"https://colab.research.google.com/assets/colab-badge.svg\" alt=\"Open In Colab\"/></a>"
      ]
    },
    {
      "cell_type": "code",
      "metadata": {
        "id": "lCKhEApSJP3U"
      },
      "source": [
        "import pandas as pd"
      ],
      "execution_count": 1,
      "outputs": []
    },
    {
      "cell_type": "code",
      "metadata": {
        "id": "I_ODWaB3KGrW"
      },
      "source": [
        "df=pd.read_csv('train.csv')"
      ],
      "execution_count": 2,
      "outputs": []
    },
    {
      "cell_type": "code",
      "metadata": {
        "colab": {
          "base_uri": "https://localhost:8080/",
          "height": 204
        },
        "id": "vL7YxyjPKN4K",
        "outputId": "e393fc89-6bc4-4575-ca7d-2ad75935e731"
      },
      "source": [
        "df.head()"
      ],
      "execution_count": 3,
      "outputs": [
        {
          "output_type": "execute_result",
          "data": {
            "text/html": [
              "<div>\n",
              "<style scoped>\n",
              "    .dataframe tbody tr th:only-of-type {\n",
              "        vertical-align: middle;\n",
              "    }\n",
              "\n",
              "    .dataframe tbody tr th {\n",
              "        vertical-align: top;\n",
              "    }\n",
              "\n",
              "    .dataframe thead th {\n",
              "        text-align: right;\n",
              "    }\n",
              "</style>\n",
              "<table border=\"1\" class=\"dataframe\">\n",
              "  <thead>\n",
              "    <tr style=\"text-align: right;\">\n",
              "      <th></th>\n",
              "      <th>id</th>\n",
              "      <th>title</th>\n",
              "      <th>author</th>\n",
              "      <th>text</th>\n",
              "      <th>label</th>\n",
              "    </tr>\n",
              "  </thead>\n",
              "  <tbody>\n",
              "    <tr>\n",
              "      <th>0</th>\n",
              "      <td>0</td>\n",
              "      <td>House Dem Aide: We Didn’t Even See Comey’s Let...</td>\n",
              "      <td>Darrell Lucus</td>\n",
              "      <td>House Dem Aide: We Didn’t Even See Comey’s Let...</td>\n",
              "      <td>1</td>\n",
              "    </tr>\n",
              "    <tr>\n",
              "      <th>1</th>\n",
              "      <td>1</td>\n",
              "      <td>FLYNN: Hillary Clinton, Big Woman on Campus - ...</td>\n",
              "      <td>Daniel J. Flynn</td>\n",
              "      <td>Ever get the feeling your life circles the rou...</td>\n",
              "      <td>0</td>\n",
              "    </tr>\n",
              "    <tr>\n",
              "      <th>2</th>\n",
              "      <td>2</td>\n",
              "      <td>Why the Truth Might Get You Fired</td>\n",
              "      <td>Consortiumnews.com</td>\n",
              "      <td>Why the Truth Might Get You Fired October 29, ...</td>\n",
              "      <td>1</td>\n",
              "    </tr>\n",
              "    <tr>\n",
              "      <th>3</th>\n",
              "      <td>3</td>\n",
              "      <td>15 Civilians Killed In Single US Airstrike Hav...</td>\n",
              "      <td>Jessica Purkiss</td>\n",
              "      <td>Videos 15 Civilians Killed In Single US Airstr...</td>\n",
              "      <td>1</td>\n",
              "    </tr>\n",
              "    <tr>\n",
              "      <th>4</th>\n",
              "      <td>4</td>\n",
              "      <td>Iranian woman jailed for fictional unpublished...</td>\n",
              "      <td>Howard Portnoy</td>\n",
              "      <td>Print \\nAn Iranian woman has been sentenced to...</td>\n",
              "      <td>1</td>\n",
              "    </tr>\n",
              "  </tbody>\n",
              "</table>\n",
              "</div>"
            ],
            "text/plain": [
              "   id  ... label\n",
              "0   0  ...     1\n",
              "1   1  ...     0\n",
              "2   2  ...     1\n",
              "3   3  ...     1\n",
              "4   4  ...     1\n",
              "\n",
              "[5 rows x 5 columns]"
            ]
          },
          "metadata": {},
          "execution_count": 3
        }
      ]
    },
    {
      "cell_type": "code",
      "metadata": {
        "colab": {
          "base_uri": "https://localhost:8080/"
        },
        "id": "hgD9Q89zKPBf",
        "outputId": "3659515e-0508-4ba4-f50a-742def0ea1e3"
      },
      "source": [
        "df.shape"
      ],
      "execution_count": 4,
      "outputs": [
        {
          "output_type": "execute_result",
          "data": {
            "text/plain": [
              "(20800, 5)"
            ]
          },
          "metadata": {},
          "execution_count": 4
        }
      ]
    },
    {
      "cell_type": "code",
      "metadata": {
        "id": "RNE8pGb2KV5r"
      },
      "source": [
        "df = df.dropna()"
      ],
      "execution_count": 7,
      "outputs": []
    },
    {
      "cell_type": "code",
      "metadata": {
        "id": "ID_dZSzUKX3Y"
      },
      "source": [
        "#Get the independent features\n",
        "X=df.drop('label',axis=1)"
      ],
      "execution_count": 8,
      "outputs": []
    },
    {
      "cell_type": "code",
      "metadata": {
        "colab": {
          "base_uri": "https://localhost:8080/"
        },
        "id": "inVNTvxWKrTV",
        "outputId": "2a6252df-8301-4a2d-c3fb-b7339541cb0c"
      },
      "source": [
        "X.shape"
      ],
      "execution_count": 9,
      "outputs": [
        {
          "output_type": "execute_result",
          "data": {
            "text/plain": [
              "(18285, 4)"
            ]
          },
          "metadata": {},
          "execution_count": 9
        }
      ]
    },
    {
      "cell_type": "code",
      "metadata": {
        "id": "KEPxPr5rKvtn"
      },
      "source": [
        "\n",
        "## Get the Dependent features\n",
        "y=df['label']"
      ],
      "execution_count": 10,
      "outputs": []
    },
    {
      "cell_type": "code",
      "metadata": {
        "colab": {
          "base_uri": "https://localhost:8080/"
        },
        "id": "e45tFdGNKwd_",
        "outputId": "a6d265bf-1740-4ca1-8a12-1743348684b1"
      },
      "source": [
        "y.shape"
      ],
      "execution_count": 11,
      "outputs": [
        {
          "output_type": "execute_result",
          "data": {
            "text/plain": [
              "(18285,)"
            ]
          },
          "metadata": {},
          "execution_count": 11
        }
      ]
    },
    {
      "cell_type": "code",
      "metadata": {
        "id": "EzB5JHmVKxXm"
      },
      "source": [
        "import tensorflow as tf\n"
      ],
      "execution_count": 12,
      "outputs": []
    },
    {
      "cell_type": "code",
      "metadata": {
        "colab": {
          "base_uri": "https://localhost:8080/",
          "height": 35
        },
        "id": "QWntEGfhK0FS",
        "outputId": "9c43cc7c-3d6e-47cd-a7fe-d669bc62bf34"
      },
      "source": [
        "tf.__version__"
      ],
      "execution_count": 13,
      "outputs": [
        {
          "output_type": "execute_result",
          "data": {
            "application/vnd.google.colaboratory.intrinsic+json": {
              "type": "string"
            },
            "text/plain": [
              "'2.6.0'"
            ]
          },
          "metadata": {},
          "execution_count": 13
        }
      ]
    },
    {
      "cell_type": "code",
      "metadata": {
        "id": "A2MsdDJOK3tJ"
      },
      "source": [
        "from tensorflow.keras.layers import Embedding\n",
        "from tensorflow.keras.preprocessing.sequence import pad_sequences\n",
        "from tensorflow.keras.models import Sequential\n",
        "from tensorflow.keras.preprocessing.text import one_hot\n",
        "from tensorflow.keras.layers import LSTM\n",
        "from tensorflow.keras.layers import Dense"
      ],
      "execution_count": 14,
      "outputs": []
    },
    {
      "cell_type": "code",
      "metadata": {
        "id": "mu3-lua6K8Cb"
      },
      "source": [
        "voc_size=5000"
      ],
      "execution_count": 15,
      "outputs": []
    },
    {
      "cell_type": "code",
      "metadata": {
        "id": "FgW82K8cL11i"
      },
      "source": [
        "messages=X.copy()\n"
      ],
      "execution_count": 16,
      "outputs": []
    },
    {
      "cell_type": "code",
      "metadata": {
        "colab": {
          "base_uri": "https://localhost:8080/",
          "height": 35
        },
        "id": "E8Oy5TgjL4O4",
        "outputId": "a3bb8aad-a617-402d-9e6d-700b0819858d"
      },
      "source": [
        "messages['title'][1]\n"
      ],
      "execution_count": 17,
      "outputs": [
        {
          "output_type": "execute_result",
          "data": {
            "application/vnd.google.colaboratory.intrinsic+json": {
              "type": "string"
            },
            "text/plain": [
              "'FLYNN: Hillary Clinton, Big Woman on Campus - Breitbart'"
            ]
          },
          "metadata": {},
          "execution_count": 17
        }
      ]
    },
    {
      "cell_type": "code",
      "metadata": {
        "id": "JSbS8yE8L-8p"
      },
      "source": [
        "messages.reset_index(inplace=True)\n"
      ],
      "execution_count": 18,
      "outputs": []
    },
    {
      "cell_type": "code",
      "metadata": {
        "id": "fFcDeUZGMAqM"
      },
      "source": [
        "import nltk\n",
        "import re\n",
        "nltk.download('all')\n",
        "from nltk.corpus import stopwords"
      ],
      "execution_count": null,
      "outputs": []
    },
    {
      "cell_type": "code",
      "metadata": {
        "colab": {
          "base_uri": "https://localhost:8080/"
        },
        "id": "mogaExC2MIN_",
        "outputId": "ea93ec76-2a38-4813-beab-2fb056e3b505"
      },
      "source": [
        "nltk.download('stopwords')"
      ],
      "execution_count": 20,
      "outputs": [
        {
          "output_type": "stream",
          "name": "stdout",
          "text": [
            "[nltk_data] Downloading package stopwords to /root/nltk_data...\n",
            "[nltk_data]   Package stopwords is already up-to-date!\n"
          ]
        },
        {
          "output_type": "execute_result",
          "data": {
            "text/plain": [
              "True"
            ]
          },
          "metadata": {},
          "execution_count": 20
        }
      ]
    },
    {
      "cell_type": "code",
      "metadata": {
        "id": "4w_Q2NjSRkzw"
      },
      "source": [
        "### Dataset Preprocessing\n",
        "from nltk.stem.porter import PorterStemmer\n",
        "ps = PorterStemmer()\n",
        "corpus = []\n",
        "for i in range(0, len(messages)):\n",
        "    review = re.sub('[^a-zA-Z]', ' ', messages['title'][i])\n",
        "    review = review.lower()\n",
        "    review = review.split()\n",
        "    \n",
        "    review = [ps.stem(word) for word in review if not word in stopwords.words('english')]\n",
        "    review = ' '.join(review)\n",
        "    corpus.append(review)"
      ],
      "execution_count": 21,
      "outputs": []
    },
    {
      "cell_type": "code",
      "metadata": {
        "id": "ufgJp1e8Rq3o"
      },
      "source": [
        "#One Hot representation of words in corpus\n",
        "onehot_repr=[one_hot(words,voc_size) for words in corpus]"
      ],
      "execution_count": 22,
      "outputs": []
    },
    {
      "cell_type": "code",
      "metadata": {
        "colab": {
          "base_uri": "https://localhost:8080/"
        },
        "id": "1gkOnmVdSdf1",
        "outputId": "bf0ff4cf-7806-465f-95b1-4ba2958e3372"
      },
      "source": [
        "onehot_repr[0]"
      ],
      "execution_count": 23,
      "outputs": [
        {
          "output_type": "execute_result",
          "data": {
            "text/plain": [
              "[742, 4034, 862, 4074, 4858, 540, 761, 840, 1855, 3503]"
            ]
          },
          "metadata": {},
          "execution_count": 23
        }
      ]
    },
    {
      "cell_type": "code",
      "metadata": {
        "colab": {
          "base_uri": "https://localhost:8080/"
        },
        "id": "PYcSSxScSiXL",
        "outputId": "7492daf8-50d6-4c8d-c7a4-5657c821c98b"
      },
      "source": [
        "sent_length=20\n",
        "embedded_docs=pad_sequences(onehot_repr,maxlen=sent_length,padding='pre')\n",
        "print(embedded_docs)"
      ],
      "execution_count": 24,
      "outputs": [
        {
          "output_type": "stream",
          "name": "stdout",
          "text": [
            "[[   0    0    0 ...  840 1855 3503]\n",
            " [   0    0    0 ...   78 3804 3724]\n",
            " [   0    0    0 ... 4895 3743  507]\n",
            " ...\n",
            " [   0    0    0 ... 4382  861 3844]\n",
            " [   0    0    0 ... 1239 1607  695]\n",
            " [   0    0    0 ... 1294 4842 1274]]\n"
          ]
        }
      ]
    },
    {
      "cell_type": "code",
      "metadata": {
        "colab": {
          "base_uri": "https://localhost:8080/"
        },
        "id": "j3tfPzdQTIFH",
        "outputId": "b186f68b-bc50-4dfe-9073-705626ebbc0a"
      },
      "source": [
        "embedded_docs[0]"
      ],
      "execution_count": 25,
      "outputs": [
        {
          "output_type": "execute_result",
          "data": {
            "text/plain": [
              "array([   0,    0,    0,    0,    0,    0,    0,    0,    0,    0,  742,\n",
              "       4034,  862, 4074, 4858,  540,  761,  840, 1855, 3503], dtype=int32)"
            ]
          },
          "metadata": {},
          "execution_count": 25
        }
      ]
    },
    {
      "cell_type": "code",
      "metadata": {
        "colab": {
          "base_uri": "https://localhost:8080/"
        },
        "id": "QEB4UerETPaj",
        "outputId": "77ba2858-3efd-4ae5-ebbb-a06419aa33b9"
      },
      "source": [
        "#Building the LSTM model\n",
        "embedding_vector_features=40\n",
        "model=Sequential()\n",
        "model.add(Embedding(voc_size,embedding_vector_features,input_length=sent_length))\n",
        "model.add(LSTM(100))\n",
        "model.add(Dense(1,activation='sigmoid'))\n",
        "model.compile(loss='binary_crossentropy',optimizer='adam',metrics=['accuracy'])\n",
        "print(model.summary())"
      ],
      "execution_count": 26,
      "outputs": [
        {
          "output_type": "stream",
          "name": "stdout",
          "text": [
            "Model: \"sequential\"\n",
            "_________________________________________________________________\n",
            "Layer (type)                 Output Shape              Param #   \n",
            "=================================================================\n",
            "embedding (Embedding)        (None, 20, 40)            200000    \n",
            "_________________________________________________________________\n",
            "lstm (LSTM)                  (None, 100)               56400     \n",
            "_________________________________________________________________\n",
            "dense (Dense)                (None, 1)                 101       \n",
            "=================================================================\n",
            "Total params: 256,501\n",
            "Trainable params: 256,501\n",
            "Non-trainable params: 0\n",
            "_________________________________________________________________\n",
            "None\n"
          ]
        }
      ]
    },
    {
      "cell_type": "code",
      "metadata": {
        "colab": {
          "base_uri": "https://localhost:8080/"
        },
        "id": "hDt7EKoeU92i",
        "outputId": "2a0d539e-4647-42f2-9c29-911939ef7ffc"
      },
      "source": [
        "len(embedded_docs),y.shape\n"
      ],
      "execution_count": 27,
      "outputs": [
        {
          "output_type": "execute_result",
          "data": {
            "text/plain": [
              "(18285, (18285,))"
            ]
          },
          "metadata": {},
          "execution_count": 27
        }
      ]
    },
    {
      "cell_type": "code",
      "metadata": {
        "id": "OQ4UIv0YVNYA"
      },
      "source": [
        "import numpy as np\n",
        "X_final=np.array(embedded_docs)\n",
        "y_final=np.array(y)"
      ],
      "execution_count": 28,
      "outputs": []
    },
    {
      "cell_type": "code",
      "metadata": {
        "colab": {
          "base_uri": "https://localhost:8080/"
        },
        "id": "puR2wGqcVU_n",
        "outputId": "feb034ce-0aa7-421f-c1af-018af293d423"
      },
      "source": [
        "X_final.shape,y_final.shape\n"
      ],
      "execution_count": 31,
      "outputs": [
        {
          "output_type": "execute_result",
          "data": {
            "text/plain": [
              "((18285, 20), (18285,))"
            ]
          },
          "metadata": {},
          "execution_count": 31
        }
      ]
    },
    {
      "cell_type": "code",
      "metadata": {
        "id": "WsgBhrQgVXJ5"
      },
      "source": [
        "from sklearn.model_selection import train_test_split"
      ],
      "execution_count": 33,
      "outputs": []
    },
    {
      "cell_type": "code",
      "metadata": {
        "id": "iwA4JwiRVjAr"
      },
      "source": [
        "X_train, X_test, y_train, y_test = train_test_split(X_final, y_final, test_size=0.33, random_state=42)\n"
      ],
      "execution_count": 34,
      "outputs": []
    },
    {
      "cell_type": "code",
      "metadata": {
        "colab": {
          "base_uri": "https://localhost:8080/"
        },
        "id": "TAVgz6QCZW5a",
        "outputId": "5d5f2b47-0148-43ba-d969-9fc9c421b387"
      },
      "source": [
        "### Finally Training\n",
        "model.fit(X_train,y_train,validation_data=(X_test,y_test),epochs=10,batch_size=64)"
      ],
      "execution_count": 35,
      "outputs": [
        {
          "output_type": "stream",
          "name": "stdout",
          "text": [
            "Epoch 1/10\n",
            "192/192 [==============================] - 11s 42ms/step - loss: 0.3457 - accuracy: 0.8367 - val_loss: 0.2034 - val_accuracy: 0.9168\n",
            "Epoch 2/10\n",
            "192/192 [==============================] - 7s 38ms/step - loss: 0.1382 - accuracy: 0.9453 - val_loss: 0.2017 - val_accuracy: 0.9130\n",
            "Epoch 3/10\n",
            "192/192 [==============================] - 8s 39ms/step - loss: 0.0899 - accuracy: 0.9681 - val_loss: 0.2391 - val_accuracy: 0.9148\n",
            "Epoch 4/10\n",
            "192/192 [==============================] - 8s 39ms/step - loss: 0.0627 - accuracy: 0.9789 - val_loss: 0.2783 - val_accuracy: 0.9123\n",
            "Epoch 5/10\n",
            "192/192 [==============================] - 7s 37ms/step - loss: 0.0391 - accuracy: 0.9872 - val_loss: 0.3208 - val_accuracy: 0.9052\n",
            "Epoch 6/10\n",
            "192/192 [==============================] - 8s 40ms/step - loss: 0.0209 - accuracy: 0.9938 - val_loss: 0.4381 - val_accuracy: 0.9112\n",
            "Epoch 7/10\n",
            "192/192 [==============================] - 7s 39ms/step - loss: 0.0170 - accuracy: 0.9946 - val_loss: 0.4871 - val_accuracy: 0.8991\n",
            "Epoch 8/10\n",
            "192/192 [==============================] - 7s 38ms/step - loss: 0.0087 - accuracy: 0.9973 - val_loss: 0.5057 - val_accuracy: 0.9085\n",
            "Epoch 9/10\n",
            "192/192 [==============================] - 7s 38ms/step - loss: 0.0048 - accuracy: 0.9986 - val_loss: 0.5607 - val_accuracy: 0.9070\n",
            "Epoch 10/10\n",
            "192/192 [==============================] - 7s 39ms/step - loss: 0.0033 - accuracy: 0.9990 - val_loss: 0.4981 - val_accuracy: 0.9032\n"
          ]
        },
        {
          "output_type": "execute_result",
          "data": {
            "text/plain": [
              "<keras.callbacks.History at 0x7fa71206fed0>"
            ]
          },
          "metadata": {},
          "execution_count": 35
        }
      ]
    },
    {
      "cell_type": "code",
      "metadata": {
        "id": "LnNGa2FwaLqZ"
      },
      "source": [
        "y_pred=((model.predict(X_test)> 0.5).astype(\"int32\"))"
      ],
      "execution_count": 41,
      "outputs": []
    },
    {
      "cell_type": "code",
      "metadata": {
        "colab": {
          "base_uri": "https://localhost:8080/"
        },
        "id": "-udOM8RXahY4",
        "outputId": "96321b87-3f3c-444b-e904-7a4d2529f556"
      },
      "source": [
        "from sklearn.metrics import confusion_matrix\n",
        "confusion_matrix(y_test,y_pred)\n"
      ],
      "execution_count": 42,
      "outputs": [
        {
          "output_type": "execute_result",
          "data": {
            "text/plain": [
              "array([[3144,  275],\n",
              "       [ 309, 2307]])"
            ]
          },
          "metadata": {},
          "execution_count": 42
        }
      ]
    },
    {
      "cell_type": "code",
      "metadata": {
        "colab": {
          "base_uri": "https://localhost:8080/"
        },
        "id": "slH2EPLUaxRf",
        "outputId": "d74d1746-d5b6-452c-c2d1-17f3755a547d"
      },
      "source": [
        "from sklearn.metrics import accuracy_score\n",
        "accuracy_score(y_test,y_pred)"
      ],
      "execution_count": 43,
      "outputs": [
        {
          "output_type": "execute_result",
          "data": {
            "text/plain": [
              "0.9032311516155758"
            ]
          },
          "metadata": {},
          "execution_count": 43
        }
      ]
    },
    {
      "cell_type": "code",
      "metadata": {
        "id": "Ep0Ncu89a1Wn"
      },
      "source": [
        "from tensorflow.keras.layers import Dropout\n",
        "## Creating model\n",
        "embedding_vector_features=40\n",
        "model1=Sequential()\n",
        "model1.add(Embedding(voc_size,embedding_vector_features,input_length=sent_length))\n",
        "model1.add(Dropout(0.3))\n",
        "model1.add(LSTM(100))\n",
        "model1.add(Dropout(0.3))\n",
        "model1.add(Dense(1,activation='sigmoid'))\n",
        "model1.compile(loss='binary_crossentropy',optimizer='adam',metrics=['accuracy'])"
      ],
      "execution_count": 44,
      "outputs": []
    },
    {
      "cell_type": "code",
      "metadata": {
        "colab": {
          "base_uri": "https://localhost:8080/"
        },
        "id": "uIrtuF3_bot8",
        "outputId": "74b266f8-c31a-4e67-9e4a-79807945bf7d"
      },
      "source": [
        "model1.fit(X_train,y_train,validation_data=(X_test,y_test),epochs=10,batch_size=64)"
      ],
      "execution_count": 45,
      "outputs": [
        {
          "output_type": "stream",
          "name": "stdout",
          "text": [
            "Epoch 1/10\n",
            "192/192 [==============================] - 10s 42ms/step - loss: 0.3452 - accuracy: 0.8358 - val_loss: 0.2235 - val_accuracy: 0.9118\n",
            "Epoch 2/10\n",
            "192/192 [==============================] - 8s 41ms/step - loss: 0.1485 - accuracy: 0.9435 - val_loss: 0.1998 - val_accuracy: 0.9165\n",
            "Epoch 3/10\n",
            "192/192 [==============================] - 7s 39ms/step - loss: 0.1071 - accuracy: 0.9607 - val_loss: 0.2249 - val_accuracy: 0.9167\n",
            "Epoch 4/10\n",
            "192/192 [==============================] - 8s 39ms/step - loss: 0.0843 - accuracy: 0.9701 - val_loss: 0.2274 - val_accuracy: 0.9142\n",
            "Epoch 5/10\n",
            "192/192 [==============================] - 8s 41ms/step - loss: 0.0640 - accuracy: 0.9781 - val_loss: 0.2675 - val_accuracy: 0.9138\n",
            "Epoch 6/10\n",
            "192/192 [==============================] - 8s 40ms/step - loss: 0.0442 - accuracy: 0.9853 - val_loss: 0.3326 - val_accuracy: 0.9107\n",
            "Epoch 7/10\n",
            "192/192 [==============================] - 8s 41ms/step - loss: 0.0346 - accuracy: 0.9882 - val_loss: 0.3662 - val_accuracy: 0.9135\n",
            "Epoch 8/10\n",
            "192/192 [==============================] - 8s 41ms/step - loss: 0.0302 - accuracy: 0.9899 - val_loss: 0.4004 - val_accuracy: 0.9109\n",
            "Epoch 9/10\n",
            "192/192 [==============================] - 8s 41ms/step - loss: 0.0169 - accuracy: 0.9946 - val_loss: 0.4275 - val_accuracy: 0.9107\n",
            "Epoch 10/10\n",
            "192/192 [==============================] - 8s 41ms/step - loss: 0.0135 - accuracy: 0.9950 - val_loss: 0.4762 - val_accuracy: 0.9110\n"
          ]
        },
        {
          "output_type": "execute_result",
          "data": {
            "text/plain": [
              "<keras.callbacks.History at 0x7fa70d975390>"
            ]
          },
          "metadata": {},
          "execution_count": 45
        }
      ]
    },
    {
      "cell_type": "code",
      "metadata": {
        "id": "iSd8Bh_VbvuZ"
      },
      "source": [
        "y_pred1=((model.predict(X_test)> 0.5).astype(\"int32\"))"
      ],
      "execution_count": 46,
      "outputs": []
    },
    {
      "cell_type": "code",
      "metadata": {
        "colab": {
          "base_uri": "https://localhost:8080/"
        },
        "id": "28Wk9eBbb88q",
        "outputId": "6823377d-4be8-42c2-ce67-4bcee81cb0c4"
      },
      "source": [
        "confusion_matrix(y_test,y_pred1)\n"
      ],
      "execution_count": 47,
      "outputs": [
        {
          "output_type": "execute_result",
          "data": {
            "text/plain": [
              "array([[3144,  275],\n",
              "       [ 309, 2307]])"
            ]
          },
          "metadata": {},
          "execution_count": 47
        }
      ]
    },
    {
      "cell_type": "code",
      "metadata": {
        "colab": {
          "base_uri": "https://localhost:8080/"
        },
        "id": "xAYwaWz1b9e1",
        "outputId": "94a09503-8e41-478b-e2aa-c3bcd6e6f299"
      },
      "source": [
        "accuracy_score(y_test,y_pred1)"
      ],
      "execution_count": 48,
      "outputs": [
        {
          "output_type": "execute_result",
          "data": {
            "text/plain": [
              "0.9032311516155758"
            ]
          },
          "metadata": {},
          "execution_count": 48
        }
      ]
    },
    {
      "cell_type": "code",
      "metadata": {
        "id": "MEfuaGPmcHDJ"
      },
      "source": [
        ""
      ],
      "execution_count": null,
      "outputs": []
    }
  ]
}